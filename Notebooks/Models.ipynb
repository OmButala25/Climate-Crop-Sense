{
 "cells": [
  {
   "cell_type": "code",
   "execution_count": 1,
   "id": "45eca918",
   "metadata": {},
   "outputs": [],
   "source": [
    "import pandas as pd\n",
    "import numpy as np\n",
    "import matplotlib.pyplot as plt\n",
    "import seaborn as sns\n",
    "from sklearn.metrics import classification_report\n",
    "from sklearn import metrics\n",
    "from sklearn.model_selection import cross_val_score\n",
    "import pickle\n",
    "import joblib\n"
   ]
  },
  {
   "cell_type": "code",
   "execution_count": 2,
   "id": "6e36172a",
   "metadata": {},
   "outputs": [],
   "source": [
    "df = pd.read_csv('../Data-processed/crop_recommendation.csv')"
   ]
  },
  {
   "cell_type": "code",
   "execution_count": 3,
   "id": "b702c792",
   "metadata": {},
   "outputs": [
    {
     "data": {
      "text/html": [
       "<div>\n",
       "<style scoped>\n",
       "    .dataframe tbody tr th:only-of-type {\n",
       "        vertical-align: middle;\n",
       "    }\n",
       "\n",
       "    .dataframe tbody tr th {\n",
       "        vertical-align: top;\n",
       "    }\n",
       "\n",
       "    .dataframe thead th {\n",
       "        text-align: right;\n",
       "    }\n",
       "</style>\n",
       "<table border=\"1\" class=\"dataframe\">\n",
       "  <thead>\n",
       "    <tr style=\"text-align: right;\">\n",
       "      <th></th>\n",
       "      <th>N</th>\n",
       "      <th>P</th>\n",
       "      <th>K</th>\n",
       "      <th>temperature</th>\n",
       "      <th>humidity</th>\n",
       "      <th>ph</th>\n",
       "      <th>rainfall</th>\n",
       "      <th>label</th>\n",
       "    </tr>\n",
       "  </thead>\n",
       "  <tbody>\n",
       "    <tr>\n",
       "      <th>0</th>\n",
       "      <td>79</td>\n",
       "      <td>51</td>\n",
       "      <td>37</td>\n",
       "      <td>20.879744</td>\n",
       "      <td>82.002744</td>\n",
       "      <td>6.502985</td>\n",
       "      <td>202.935536</td>\n",
       "      <td>rice</td>\n",
       "    </tr>\n",
       "    <tr>\n",
       "      <th>1</th>\n",
       "      <td>62</td>\n",
       "      <td>52</td>\n",
       "      <td>35</td>\n",
       "      <td>21.770462</td>\n",
       "      <td>80.319644</td>\n",
       "      <td>7.038096</td>\n",
       "      <td>226.655537</td>\n",
       "      <td>rice</td>\n",
       "    </tr>\n",
       "    <tr>\n",
       "      <th>2</th>\n",
       "      <td>81</td>\n",
       "      <td>45</td>\n",
       "      <td>39</td>\n",
       "      <td>23.004459</td>\n",
       "      <td>82.320763</td>\n",
       "      <td>7.840207</td>\n",
       "      <td>263.964248</td>\n",
       "      <td>rice</td>\n",
       "    </tr>\n",
       "    <tr>\n",
       "      <th>3</th>\n",
       "      <td>100</td>\n",
       "      <td>39</td>\n",
       "      <td>39</td>\n",
       "      <td>26.491096</td>\n",
       "      <td>80.158363</td>\n",
       "      <td>6.980401</td>\n",
       "      <td>242.864034</td>\n",
       "      <td>rice</td>\n",
       "    </tr>\n",
       "    <tr>\n",
       "      <th>4</th>\n",
       "      <td>91</td>\n",
       "      <td>44</td>\n",
       "      <td>35</td>\n",
       "      <td>20.130175</td>\n",
       "      <td>81.604873</td>\n",
       "      <td>7.628473</td>\n",
       "      <td>262.717340</td>\n",
       "      <td>rice</td>\n",
       "    </tr>\n",
       "  </tbody>\n",
       "</table>\n",
       "</div>"
      ],
      "text/plain": [
       "     N   P   K  temperature   humidity        ph    rainfall label\n",
       "0   79  51  37    20.879744  82.002744  6.502985  202.935536  rice\n",
       "1   62  52  35    21.770462  80.319644  7.038096  226.655537  rice\n",
       "2   81  45  39    23.004459  82.320763  7.840207  263.964248  rice\n",
       "3  100  39  39    26.491096  80.158363  6.980401  242.864034  rice\n",
       "4   91  44  35    20.130175  81.604873  7.628473  262.717340  rice"
      ]
     },
     "execution_count": 3,
     "metadata": {},
     "output_type": "execute_result"
    }
   ],
   "source": [
    "df.head()"
   ]
  },
  {
   "cell_type": "code",
   "execution_count": 4,
   "id": "d6b46063",
   "metadata": {},
   "outputs": [
    {
     "data": {
      "text/html": [
       "<div>\n",
       "<style scoped>\n",
       "    .dataframe tbody tr th:only-of-type {\n",
       "        vertical-align: middle;\n",
       "    }\n",
       "\n",
       "    .dataframe tbody tr th {\n",
       "        vertical-align: top;\n",
       "    }\n",
       "\n",
       "    .dataframe thead th {\n",
       "        text-align: right;\n",
       "    }\n",
       "</style>\n",
       "<table border=\"1\" class=\"dataframe\">\n",
       "  <thead>\n",
       "    <tr style=\"text-align: right;\">\n",
       "      <th></th>\n",
       "      <th>N</th>\n",
       "      <th>P</th>\n",
       "      <th>K</th>\n",
       "      <th>temperature</th>\n",
       "      <th>humidity</th>\n",
       "      <th>ph</th>\n",
       "      <th>rainfall</th>\n",
       "      <th>label</th>\n",
       "    </tr>\n",
       "  </thead>\n",
       "  <tbody>\n",
       "    <tr>\n",
       "      <th>2195</th>\n",
       "      <td>94</td>\n",
       "      <td>26</td>\n",
       "      <td>55</td>\n",
       "      <td>25.287846</td>\n",
       "      <td>89.636679</td>\n",
       "      <td>6.765095</td>\n",
       "      <td>58.286977</td>\n",
       "      <td>watermelon</td>\n",
       "    </tr>\n",
       "    <tr>\n",
       "      <th>2196</th>\n",
       "      <td>104</td>\n",
       "      <td>18</td>\n",
       "      <td>51</td>\n",
       "      <td>26.638386</td>\n",
       "      <td>84.695469</td>\n",
       "      <td>6.189214</td>\n",
       "      <td>48.324286</td>\n",
       "      <td>watermelon</td>\n",
       "    </tr>\n",
       "    <tr>\n",
       "      <th>2197</th>\n",
       "      <td>89</td>\n",
       "      <td>30</td>\n",
       "      <td>55</td>\n",
       "      <td>25.331045</td>\n",
       "      <td>84.305338</td>\n",
       "      <td>6.904242</td>\n",
       "      <td>41.532187</td>\n",
       "      <td>watermelon</td>\n",
       "    </tr>\n",
       "    <tr>\n",
       "      <th>2198</th>\n",
       "      <td>91</td>\n",
       "      <td>13</td>\n",
       "      <td>48</td>\n",
       "      <td>26.897502</td>\n",
       "      <td>83.892415</td>\n",
       "      <td>6.463271</td>\n",
       "      <td>43.971937</td>\n",
       "      <td>watermelon</td>\n",
       "    </tr>\n",
       "    <tr>\n",
       "      <th>2199</th>\n",
       "      <td>111</td>\n",
       "      <td>10</td>\n",
       "      <td>54</td>\n",
       "      <td>26.986037</td>\n",
       "      <td>89.413849</td>\n",
       "      <td>6.260839</td>\n",
       "      <td>58.548767</td>\n",
       "      <td>watermelon</td>\n",
       "    </tr>\n",
       "  </tbody>\n",
       "</table>\n",
       "</div>"
      ],
      "text/plain": [
       "        N   P   K  temperature   humidity        ph   rainfall       label\n",
       "2195   94  26  55    25.287846  89.636679  6.765095  58.286977  watermelon\n",
       "2196  104  18  51    26.638386  84.695469  6.189214  48.324286  watermelon\n",
       "2197   89  30  55    25.331045  84.305338  6.904242  41.532187  watermelon\n",
       "2198   91  13  48    26.897502  83.892415  6.463271  43.971937  watermelon\n",
       "2199  111  10  54    26.986037  89.413849  6.260839  58.548767  watermelon"
      ]
     },
     "execution_count": 4,
     "metadata": {},
     "output_type": "execute_result"
    }
   ],
   "source": [
    "df.tail()"
   ]
  },
  {
   "cell_type": "code",
   "execution_count": 5,
   "id": "9d4af7fa",
   "metadata": {},
   "outputs": [
    {
     "data": {
      "text/plain": [
       "17600"
      ]
     },
     "execution_count": 5,
     "metadata": {},
     "output_type": "execute_result"
    }
   ],
   "source": [
    "df.size"
   ]
  },
  {
   "cell_type": "code",
   "execution_count": 6,
   "id": "1b4c8864",
   "metadata": {},
   "outputs": [
    {
     "data": {
      "text/plain": [
       "(2200, 8)"
      ]
     },
     "execution_count": 6,
     "metadata": {},
     "output_type": "execute_result"
    }
   ],
   "source": [
    "df.shape"
   ]
  },
  {
   "cell_type": "code",
   "execution_count": 7,
   "id": "97e462cd",
   "metadata": {},
   "outputs": [
    {
     "data": {
      "text/plain": [
       "Index(['N', 'P', 'K', 'temperature', 'humidity', 'ph', 'rainfall', 'label'], dtype='object')"
      ]
     },
     "execution_count": 7,
     "metadata": {},
     "output_type": "execute_result"
    }
   ],
   "source": [
    "df.columns"
   ]
  },
  {
   "cell_type": "code",
   "execution_count": 8,
   "id": "d759debf",
   "metadata": {},
   "outputs": [
    {
     "data": {
      "text/plain": [
       "array(['rice', 'mungbean', 'maize', 'lentil', 'jute', 'coffee', 'cotton',\n",
       "       'kidneybeans', 'mothbeans', 'coconut', 'blackgram', 'pigeonpeas',\n",
       "       'chickpea', 'banana', 'grapes', 'apple', 'mango', 'muskmelon',\n",
       "       'orange', 'papaya', 'pomegranate', 'watermelon'], dtype=object)"
      ]
     },
     "execution_count": 8,
     "metadata": {},
     "output_type": "execute_result"
    }
   ],
   "source": [
    "df['label'].unique()"
   ]
  },
  {
   "cell_type": "code",
   "execution_count": 9,
   "id": "e6d2cde0",
   "metadata": {},
   "outputs": [
    {
     "data": {
      "text/plain": [
       "N                int64\n",
       "P                int64\n",
       "K                int64\n",
       "temperature    float64\n",
       "humidity       float64\n",
       "ph             float64\n",
       "rainfall       float64\n",
       "label           object\n",
       "dtype: object"
      ]
     },
     "execution_count": 9,
     "metadata": {},
     "output_type": "execute_result"
    }
   ],
   "source": [
    "df.dtypes"
   ]
  },
  {
   "cell_type": "code",
   "execution_count": 10,
   "id": "8ef89090",
   "metadata": {},
   "outputs": [
    {
     "data": {
      "text/plain": [
       "label\n",
       "rice           100\n",
       "mungbean       100\n",
       "pomegranate    100\n",
       "papaya         100\n",
       "orange         100\n",
       "muskmelon      100\n",
       "mango          100\n",
       "apple          100\n",
       "grapes         100\n",
       "banana         100\n",
       "chickpea       100\n",
       "pigeonpeas     100\n",
       "blackgram      100\n",
       "coconut        100\n",
       "mothbeans      100\n",
       "kidneybeans    100\n",
       "cotton         100\n",
       "coffee         100\n",
       "jute           100\n",
       "lentil         100\n",
       "maize          100\n",
       "watermelon     100\n",
       "Name: count, dtype: int64"
      ]
     },
     "execution_count": 10,
     "metadata": {},
     "output_type": "execute_result"
    }
   ],
   "source": [
    "df['label'].value_counts()"
   ]
  },
  {
   "cell_type": "markdown",
   "id": "fae0f7bf",
   "metadata": {},
   "source": [
    "<h3>Seperating features and target label</h3>"
   ]
  },
  {
   "cell_type": "code",
   "execution_count": 11,
   "id": "1916b828",
   "metadata": {},
   "outputs": [],
   "source": [
    "features = df[['N', 'P','K','temperature', 'humidity', 'ph', 'rainfall']]\n",
    "target = df['label']"
   ]
  },
  {
   "cell_type": "code",
   "execution_count": 12,
   "id": "24a3ddcc",
   "metadata": {},
   "outputs": [],
   "source": [
    "#accuracy and model name\n",
    "acc = []\n",
    "model = []"
   ]
  },
  {
   "cell_type": "code",
   "execution_count": 13,
   "id": "a8be3d79",
   "metadata": {},
   "outputs": [],
   "source": [
    "# Splitting into train and test data\n",
    "from sklearn.model_selection import train_test_split\n",
    "Xtrain, Xtest, Ytrain, Ytest = train_test_split(features,target,test_size = 0.2,random_state =2)"
   ]
  },
  {
   "cell_type": "markdown",
   "id": "d073f002",
   "metadata": {},
   "source": [
    "<h2>Decision tree</h2>"
   ]
  },
  {
   "cell_type": "code",
   "execution_count": 14,
   "id": "fc48d883",
   "metadata": {},
   "outputs": [
    {
     "name": "stdout",
     "output_type": "stream",
     "text": [
      "DecisionTrees's Accuracy is:  85.22727272727273\n",
      "              precision    recall  f1-score   support\n",
      "\n",
      "       apple       1.00      1.00      1.00        13\n",
      "      banana       1.00      1.00      1.00        15\n",
      "   blackgram       0.65      1.00      0.79        17\n",
      "    chickpea       1.00      1.00      1.00        18\n",
      "     coconut       1.00      0.94      0.97        17\n",
      "      coffee       1.00      0.95      0.97        19\n",
      "      cotton       1.00      1.00      1.00        24\n",
      "      grapes       1.00      1.00      1.00        23\n",
      "        jute       0.00      0.00      0.00        18\n",
      " kidneybeans       1.00      0.62      0.77        16\n",
      "      lentil       0.82      1.00      0.90        14\n",
      "       maize       0.74      0.95      0.83        21\n",
      "       mango       1.00      0.10      0.19        29\n",
      "   mothbeans       1.00      0.48      0.65        23\n",
      "    mungbean       1.00      1.00      1.00        21\n",
      "   muskmelon       1.00      1.00      1.00        19\n",
      "      orange       1.00      1.00      1.00        21\n",
      "      papaya       1.00      1.00      1.00        20\n",
      "  pigeonpeas       0.50      1.00      0.67        26\n",
      " pomegranate       0.97      1.00      0.98        28\n",
      "        rice       0.46      1.00      0.63        16\n",
      "  watermelon       1.00      1.00      1.00        22\n",
      "\n",
      "    accuracy                           0.85       440\n",
      "   macro avg       0.87      0.87      0.83       440\n",
      "weighted avg       0.88      0.85      0.82       440\n",
      "\n"
     ]
    },
    {
     "name": "stderr",
     "output_type": "stream",
     "text": [
      "c:\\Users\\BUTALOP\\AppData\\Local\\Programs\\Python\\Python312\\Lib\\site-packages\\sklearn\\metrics\\_classification.py:1509: UndefinedMetricWarning: Precision is ill-defined and being set to 0.0 in labels with no predicted samples. Use `zero_division` parameter to control this behavior.\n",
      "  _warn_prf(average, modifier, f\"{metric.capitalize()} is\", len(result))\n",
      "c:\\Users\\BUTALOP\\AppData\\Local\\Programs\\Python\\Python312\\Lib\\site-packages\\sklearn\\metrics\\_classification.py:1509: UndefinedMetricWarning: Precision is ill-defined and being set to 0.0 in labels with no predicted samples. Use `zero_division` parameter to control this behavior.\n",
      "  _warn_prf(average, modifier, f\"{metric.capitalize()} is\", len(result))\n",
      "c:\\Users\\BUTALOP\\AppData\\Local\\Programs\\Python\\Python312\\Lib\\site-packages\\sklearn\\metrics\\_classification.py:1509: UndefinedMetricWarning: Precision is ill-defined and being set to 0.0 in labels with no predicted samples. Use `zero_division` parameter to control this behavior.\n",
      "  _warn_prf(average, modifier, f\"{metric.capitalize()} is\", len(result))\n"
     ]
    }
   ],
   "source": [
    "from sklearn.tree import DecisionTreeClassifier\n",
    "\n",
    "DecisionTree = DecisionTreeClassifier(criterion=\"entropy\",random_state=2,max_depth=5)\n",
    "\n",
    "DecisionTree.fit(Xtrain,Ytrain)\n",
    "\n",
    "predicted_values = DecisionTree.predict(Xtest)\n",
    "x = metrics.accuracy_score(Ytest, predicted_values)\n",
    "acc.append(x)                         #accuracy\n",
    "model.append('Decision Tree')         #model name\n",
    "print(\"DecisionTrees's Accuracy is: \", x*100)\n",
    "\n",
    "print(classification_report(Ytest,predicted_values))"
   ]
  },
  {
   "cell_type": "code",
   "execution_count": 15,
   "id": "55a8c281",
   "metadata": {},
   "outputs": [
    {
     "data": {
      "text/plain": [
       "array([0.92954545, 0.93181818, 0.91136364, 0.91363636, 0.94318182])"
      ]
     },
     "execution_count": 15,
     "metadata": {},
     "output_type": "execute_result"
    }
   ],
   "source": [
    "score = cross_val_score(DecisionTree, features, target,cv=5)\n",
    "score"
   ]
  },
  {
   "cell_type": "markdown",
   "id": "aa26b215",
   "metadata": {},
   "source": [
    "<b>Saving the trained Decision tree model</b>"
   ]
  },
  {
   "cell_type": "code",
   "execution_count": 16,
   "id": "f60a12aa",
   "metadata": {},
   "outputs": [],
   "source": [
    "DT_pkl = open('../Saved-Models/DecisionTree.joblib', 'wb')\n",
    "joblib.dump(DecisionTree, DT_pkl)\n",
    "DT_pkl.close()"
   ]
  },
  {
   "cell_type": "markdown",
   "id": "841c39d9",
   "metadata": {},
   "source": [
    "<h2>Guassian Naive Bayes</h2>"
   ]
  },
  {
   "cell_type": "code",
   "execution_count": 17,
   "id": "38dbbc76",
   "metadata": {},
   "outputs": [
    {
     "name": "stdout",
     "output_type": "stream",
     "text": [
      "Naive Bayes's Accuracy is:  0.990909090909091\n",
      "              precision    recall  f1-score   support\n",
      "\n",
      "       apple       1.00      1.00      1.00        13\n",
      "      banana       1.00      1.00      1.00        15\n",
      "   blackgram       1.00      1.00      1.00        17\n",
      "    chickpea       1.00      1.00      1.00        18\n",
      "     coconut       1.00      1.00      1.00        17\n",
      "      coffee       1.00      1.00      1.00        19\n",
      "      cotton       1.00      1.00      1.00        24\n",
      "      grapes       1.00      1.00      1.00        23\n",
      "        jute       0.82      1.00      0.90        18\n",
      " kidneybeans       1.00      1.00      1.00        16\n",
      "      lentil       1.00      1.00      1.00        14\n",
      "       maize       1.00      1.00      1.00        21\n",
      "       mango       1.00      1.00      1.00        29\n",
      "   mothbeans       1.00      1.00      1.00        23\n",
      "    mungbean       1.00      1.00      1.00        21\n",
      "   muskmelon       1.00      1.00      1.00        19\n",
      "      orange       1.00      1.00      1.00        21\n",
      "      papaya       1.00      1.00      1.00        20\n",
      "  pigeonpeas       1.00      1.00      1.00        26\n",
      " pomegranate       1.00      1.00      1.00        28\n",
      "        rice       1.00      0.75      0.86        16\n",
      "  watermelon       1.00      1.00      1.00        22\n",
      "\n",
      "    accuracy                           0.99       440\n",
      "   macro avg       0.99      0.99      0.99       440\n",
      "weighted avg       0.99      0.99      0.99       440\n",
      "\n"
     ]
    }
   ],
   "source": [
    "from sklearn.naive_bayes import GaussianNB\n",
    "\n",
    "NaiveBayes = GaussianNB()\n",
    "\n",
    "NaiveBayes.fit(Xtrain,Ytrain)\n",
    "\n",
    "predicted_values = NaiveBayes.predict(Xtest)\n",
    "x = metrics.accuracy_score(Ytest, predicted_values)\n",
    "acc.append(x)                         #accuracy\n",
    "model.append('Naive Bayes')           #model name\n",
    "print(\"Naive Bayes's Accuracy is: \", x)\n",
    "\n",
    "print(classification_report(Ytest,predicted_values))"
   ]
  },
  {
   "cell_type": "code",
   "execution_count": 18,
   "id": "d1b968d4",
   "metadata": {},
   "outputs": [
    {
     "data": {
      "text/plain": [
       "array([1.        , 0.99772727, 0.99545455, 0.99545455, 0.99090909])"
      ]
     },
     "execution_count": 18,
     "metadata": {},
     "output_type": "execute_result"
    }
   ],
   "source": [
    "score = cross_val_score(NaiveBayes,features,target,cv=5)\n",
    "score"
   ]
  },
  {
   "cell_type": "markdown",
   "id": "4831a004",
   "metadata": {},
   "source": [
    "<b>Saving the trained Naive Bayes model</b>"
   ]
  },
  {
   "cell_type": "code",
   "execution_count": 19,
   "id": "0a53613d",
   "metadata": {},
   "outputs": [],
   "source": [
    "NB_pkl = open('../Saved-Models/NaiveBayes.joblib', 'wb')\n",
    "joblib.dump(NaiveBayes, NB_pkl)\n",
    "NB_pkl.close()"
   ]
  },
  {
   "cell_type": "markdown",
   "id": "d459ff7f",
   "metadata": {},
   "source": [
    "<h2>Support Vector Machine (SVM)</h2>"
   ]
  },
  {
   "cell_type": "code",
   "execution_count": 20,
   "id": "079dedf7",
   "metadata": {},
   "outputs": [
    {
     "name": "stdout",
     "output_type": "stream",
     "text": [
      "SVM's Accuracy is:  0.9795454545454545\n",
      "              precision    recall  f1-score   support\n",
      "\n",
      "       apple       1.00      1.00      1.00        13\n",
      "      banana       1.00      1.00      1.00        15\n",
      "   blackgram       0.81      1.00      0.89        17\n",
      "    chickpea       1.00      1.00      1.00        18\n",
      "     coconut       1.00      1.00      1.00        17\n",
      "      coffee       1.00      1.00      1.00        19\n",
      "      cotton       1.00      1.00      1.00        24\n",
      "      grapes       1.00      1.00      1.00        23\n",
      "        jute       0.78      1.00      0.88        18\n",
      " kidneybeans       1.00      1.00      1.00        16\n",
      "      lentil       1.00      0.79      0.88        14\n",
      "       maize       1.00      1.00      1.00        21\n",
      "       mango       1.00      1.00      1.00        29\n",
      "   mothbeans       1.00      0.96      0.98        23\n",
      "    mungbean       1.00      1.00      1.00        21\n",
      "   muskmelon       1.00      1.00      1.00        19\n",
      "      orange       1.00      1.00      1.00        21\n",
      "      papaya       1.00      1.00      1.00        20\n",
      "  pigeonpeas       1.00      1.00      1.00        26\n",
      " pomegranate       1.00      1.00      1.00        28\n",
      "        rice       1.00      0.69      0.81        16\n",
      "  watermelon       1.00      1.00      1.00        22\n",
      "\n",
      "    accuracy                           0.98       440\n",
      "   macro avg       0.98      0.97      0.97       440\n",
      "weighted avg       0.98      0.98      0.98       440\n",
      "\n"
     ]
    }
   ],
   "source": [
    "from sklearn.svm import SVC\n",
    "from sklearn.preprocessing import MinMaxScaler\n",
    "\n",
    "norm = MinMaxScaler().fit(Xtrain)\n",
    "X_train_norm = norm.transform(Xtrain)\n",
    "X_test_norm = norm.transform(Xtest)\n",
    "\n",
    "SVM = SVC(C=1)\n",
    "SVM.fit(X_train_norm,Ytrain)\n",
    "predicted_values = SVM.predict(X_test_norm)\n",
    "\n",
    "x = metrics.accuracy_score(Ytest, predicted_values)\n",
    "acc.append(x)                         #accuracy\n",
    "model.append('SVM')                   #model name\n",
    "print(\"SVM's Accuracy is: \", x)\n",
    "\n",
    "print(classification_report(Ytest,predicted_values))"
   ]
  },
  {
   "cell_type": "code",
   "execution_count": 21,
   "id": "c06b0c9a",
   "metadata": {},
   "outputs": [
    {
     "data": {
      "text/plain": [
       "array([0.97954545, 0.975     , 0.975     , 0.97954545, 0.97272727])"
      ]
     },
     "execution_count": 21,
     "metadata": {},
     "output_type": "execute_result"
    }
   ],
   "source": [
    "score = cross_val_score(SVM,features,target,cv=5)\n",
    "score"
   ]
  },
  {
   "cell_type": "markdown",
   "id": "f97153cc",
   "metadata": {},
   "source": [
    "<b>Saving the trained SVM model</b>"
   ]
  },
  {
   "cell_type": "code",
   "execution_count": 22,
   "id": "7fe42f05",
   "metadata": {},
   "outputs": [],
   "source": [
    "SVM_pkl = open('../Saved-Models/SVMClassifier.joblib', 'wb')\n",
    "joblib.dump(SVM, SVM_pkl)\n",
    "SVM_pkl.close()"
   ]
  },
  {
   "cell_type": "markdown",
   "id": "bf786ddf",
   "metadata": {},
   "source": [
    "<h2>Random Forest</h2>"
   ]
  },
  {
   "cell_type": "code",
   "execution_count": 23,
   "id": "dc126ed5",
   "metadata": {},
   "outputs": [
    {
     "data": {
      "image/png": "[encoded data removed]",
      "text/plain": [
       "<Figure size 640x480 with 1 Axes>"
      ]
     },
     "metadata": {},
     "output_type": "display_data"
    }
   ],
   "source": [
    "from sklearn.ensemble import RandomForestClassifier\n",
    "acc_score = []\n",
    "n_estimators = [1, 2, 4, 8, 16, 32, 64, 100, 200]\n",
    "for i in n_estimators:\n",
    "    RF = RandomForestClassifier(n_estimators=i, random_state=2)\n",
    "    RF.fit(Xtrain,Ytrain)\n",
    "    predicted_values = RF.predict(Xtest)\n",
    "\n",
    "    x = metrics.accuracy_score(Ytest, predicted_values)\n",
    "    acc_score.append(x) \n",
    "    \n",
    "plt.plot(n_estimators, acc_score, 'b', label='Accuracy')\n",
    "plt.ylabel('Accuracy score')\n",
    "plt.xlabel('n_estimators')\n",
    "plt.show()                      "
   ]
  },
  {
   "cell_type": "code",
   "execution_count": 24,
   "id": "801482e0",
   "metadata": {},
   "outputs": [
    {
     "data": {
      "text/plain": [
       "[0.9818181818181818,\n",
       " 0.95,\n",
       " 0.9772727272727273,\n",
       " 0.990909090909091,\n",
       " 0.9886363636363636,\n",
       " 0.990909090909091,\n",
       " 0.990909090909091,\n",
       " 0.990909090909091,\n",
       " 0.990909090909091]"
      ]
     },
     "execution_count": 24,
     "metadata": {},
     "output_type": "execute_result"
    }
   ],
   "source": [
    "acc_score"
   ]
  },
  {
   "cell_type": "code",
   "execution_count": 25,
   "id": "a5834e1c",
   "metadata": {},
   "outputs": [
    {
     "name": "stdout",
     "output_type": "stream",
     "text": [
      "RF's Accuracy is:  0.9886363636363636\n",
      "              precision    recall  f1-score   support\n",
      "\n",
      "       apple       1.00      1.00      1.00        13\n",
      "      banana       1.00      1.00      1.00        15\n",
      "   blackgram       1.00      1.00      1.00        17\n",
      "    chickpea       1.00      1.00      1.00        18\n",
      "     coconut       1.00      1.00      1.00        17\n",
      "      coffee       1.00      1.00      1.00        19\n",
      "      cotton       1.00      1.00      1.00        24\n",
      "      grapes       1.00      1.00      1.00        23\n",
      "        jute       0.82      1.00      0.90        18\n",
      " kidneybeans       1.00      1.00      1.00        16\n",
      "      lentil       0.93      1.00      0.97        14\n",
      "       maize       1.00      1.00      1.00        21\n",
      "       mango       1.00      1.00      1.00        29\n",
      "   mothbeans       1.00      0.96      0.98        23\n",
      "    mungbean       1.00      1.00      1.00        21\n",
      "   muskmelon       1.00      1.00      1.00        19\n",
      "      orange       1.00      1.00      1.00        21\n",
      "      papaya       1.00      1.00      1.00        20\n",
      "  pigeonpeas       1.00      1.00      1.00        26\n",
      " pomegranate       1.00      1.00      1.00        28\n",
      "        rice       1.00      0.75      0.86        16\n",
      "  watermelon       1.00      1.00      1.00        22\n",
      "\n",
      "    accuracy                           0.99       440\n",
      "   macro avg       0.99      0.99      0.99       440\n",
      "weighted avg       0.99      0.99      0.99       440\n",
      "\n"
     ]
    }
   ],
   "source": [
    "RF = RandomForestClassifier(n_estimators=16, random_state=2)\n",
    "RF.fit(Xtrain,Ytrain)\n",
    "\n",
    "predicted_values = RF.predict(Xtest)\n",
    "\n",
    "x = metrics.accuracy_score(Ytest, predicted_values)\n",
    "acc.append(x)                         #accuracy\n",
    "model.append('RF')                   #model name\n",
    "print(\"RF's Accuracy is: \", x)\n",
    "\n",
    "print(classification_report(Ytest,predicted_values))"
   ]
  },
  {
   "cell_type": "code",
   "execution_count": 26,
   "id": "b8f3933b",
   "metadata": {},
   "outputs": [
    {
     "data": {
      "text/plain": [
       "array([0.99545455, 0.99545455, 0.99772727, 0.99318182, 0.98863636])"
      ]
     },
     "execution_count": 26,
     "metadata": {},
     "output_type": "execute_result"
    }
   ],
   "source": [
    "score = cross_val_score(RF,features,target,cv=5)\n",
    "score"
   ]
  },
  {
   "cell_type": "markdown",
   "id": "dce66959",
   "metadata": {},
   "source": [
    "<b>Saving the trained Random Forest model</b>"
   ]
  },
  {
   "cell_type": "code",
   "execution_count": 27,
   "id": "83454ed5",
   "metadata": {},
   "outputs": [],
   "source": [
    "RF_pkl = open('../Saved-Models/RandomForest.joblib', 'wb')\n",
    "joblib.dump(RF, RF_pkl)\n",
    "RF_pkl.close()"
   ]
  },
  {
   "cell_type": "markdown",
   "id": "0d823c22",
   "metadata": {},
   "source": [
    "<h2>K-Nearest Neighbour</h2>"
   ]
  },
  {
   "cell_type": "code",
   "execution_count": 28,
   "id": "40dc74c8",
   "metadata": {},
   "outputs": [
    {
     "data": {
      "text/plain": [
       "<matplotlib.legend.Legend at 0x20ca52a7a10>"
      ]
     },
     "execution_count": 28,
     "metadata": {},
     "output_type": "execute_result"
    },
    {
     "data": {
      "image/png": "[encoded data removed]",
      "text/plain": [
       "<Figure size 640x480 with 1 Axes>"
      ]
     },
     "metadata": {},
     "output_type": "display_data"
    }
   ],
   "source": [
    "from sklearn.neighbors import KNeighborsClassifier \n",
    "error1=[]\n",
    "error2=[]\n",
    "for k in range(1,10):\n",
    "  k_nn = KNeighborsClassifier(n_neighbors=k)\n",
    "  k_nn.fit(Xtrain,Ytrain)\n",
    "  y_pred1 = k_nn.predict(Xtrain)\n",
    "  error1.append(np.mean(Ytrain!=y_pred1))\n",
    "  y_pred2 = k_nn.predict(Xtest)\n",
    "  error2.append(np.mean(Ytest!=y_pred2))\n",
    "plt.plot(range(1,10),error1,label='train')\n",
    "plt.plot(range(1,10),error2,label='test')\n",
    "plt.xlabel('K - Value')\n",
    "plt.ylabel('Error')\n",
    "plt.legend()"
   ]
  },
  {
   "cell_type": "code",
   "execution_count": 29,
   "id": "a3ec85fc",
   "metadata": {},
   "outputs": [
    {
     "name": "stdout",
     "output_type": "stream",
     "text": [
      "KNN's Accuracy is:  0.9659090909090909\n",
      "              precision    recall  f1-score   support\n",
      "\n",
      "       apple       1.00      1.00      1.00        13\n",
      "      banana       1.00      1.00      1.00        15\n",
      "   blackgram       0.81      1.00      0.89        17\n",
      "    chickpea       1.00      1.00      1.00        18\n",
      "     coconut       1.00      1.00      1.00        17\n",
      "      coffee       1.00      1.00      1.00        19\n",
      "      cotton       1.00      1.00      1.00        24\n",
      "      grapes       1.00      1.00      1.00        23\n",
      "        jute       0.82      1.00      0.90        18\n",
      " kidneybeans       1.00      1.00      1.00        16\n",
      "      lentil       0.65      0.79      0.71        14\n",
      "       maize       1.00      1.00      1.00        21\n",
      "       mango       0.97      1.00      0.98        29\n",
      "   mothbeans       1.00      0.70      0.82        23\n",
      "    mungbean       1.00      1.00      1.00        21\n",
      "   muskmelon       1.00      1.00      1.00        19\n",
      "      orange       1.00      1.00      1.00        21\n",
      "      papaya       1.00      1.00      1.00        20\n",
      "  pigeonpeas       1.00      0.96      0.98        26\n",
      " pomegranate       1.00      1.00      1.00        28\n",
      "        rice       1.00      0.75      0.86        16\n",
      "  watermelon       1.00      1.00      1.00        22\n",
      "\n",
      "    accuracy                           0.97       440\n",
      "   macro avg       0.97      0.96      0.96       440\n",
      "weighted avg       0.97      0.97      0.97       440\n",
      "\n"
     ]
    }
   ],
   "source": [
    "from sklearn.preprocessing import MinMaxScaler\n",
    "\n",
    "norm = MinMaxScaler().fit(Xtrain)\n",
    "X_train_norm = norm.transform(Xtrain)\n",
    "X_test_norm = norm.transform(Xtest)\n",
    "\n",
    "knn = KNeighborsClassifier(n_neighbors=8)\n",
    "knn.fit(X_train_norm,Ytrain)\n",
    "predicted_values = knn.predict(X_test_norm)\n",
    "\n",
    "x = metrics.accuracy_score(Ytest, predicted_values)\n",
    "acc.append(x)                         #accuracy\n",
    "model.append('KNN')                   #model name\n",
    "print(\"KNN's Accuracy is: \", x)\n",
    "\n",
    "print(classification_report(Ytest,predicted_values))"
   ]
  },
  {
   "cell_type": "code",
   "execution_count": 30,
   "id": "f6c5de0d",
   "metadata": {},
   "outputs": [
    {
     "data": {
      "text/plain": [
       "array([0.99545455, 0.99545455, 0.99772727, 0.99318182, 0.98863636])"
      ]
     },
     "execution_count": 30,
     "metadata": {},
     "output_type": "execute_result"
    }
   ],
   "source": [
    "score = cross_val_score(RF,features,target,cv=5)\n",
    "score"
   ]
  },
  {
   "cell_type": "markdown",
   "id": "b1bd80ef",
   "metadata": {},
   "source": [
    "<b>Saving the trained Random Forest model</b>"
   ]
  },
  {
   "cell_type": "code",
   "execution_count": 31,
   "id": "f5991b60",
   "metadata": {},
   "outputs": [],
   "source": [
    "KNN_pkl = open('../Saved-Models/KNN.joblib', 'wb')\n",
    "joblib.dump(knn, KNN_pkl)\n",
    "KNN_pkl.close()"
   ]
  },
  {
   "cell_type": "markdown",
   "id": "7fbc97fd",
   "metadata": {},
   "source": [
    "<h2>Comparing models</h2>"
   ]
  },
  {
   "cell_type": "code",
   "execution_count": 32,
   "id": "88f070ee",
   "metadata": {},
   "outputs": [
    {
     "name": "stderr",
     "output_type": "stream",
     "text": [
      "C:\\Users\\BUTALOP\\AppData\\Local\\Temp\\ipykernel_20312\\2464031616.py:5: FutureWarning: \n",
      "\n",
      "Passing `palette` without assigning `hue` is deprecated and will be removed in v0.14.0. Assign the `y` variable to `hue` and set `legend=False` for the same effect.\n",
      "\n",
      "  sns.barplot(x = acc,y = model,palette='dark')\n",
      "c:\\Users\\BUTALOP\\AppData\\Local\\Programs\\Python\\Python312\\Lib\\site-packages\\seaborn\\_base.py:949: FutureWarning: When grouping with a length-1 list-like, you will need to pass a length-1 tuple to get_group in a future version of pandas. Pass `(name,)` instead of `name` to silence this warning.\n",
      "  data_subset = grouped_data.get_group(pd_key)\n",
      "c:\\Users\\BUTALOP\\AppData\\Local\\Programs\\Python\\Python312\\Lib\\site-packages\\seaborn\\_base.py:949: FutureWarning: When grouping with a length-1 list-like, you will need to pass a length-1 tuple to get_group in a future version of pandas. Pass `(name,)` instead of `name` to silence this warning.\n",
      "  data_subset = grouped_data.get_group(pd_key)\n",
      "c:\\Users\\BUTALOP\\AppData\\Local\\Programs\\Python\\Python312\\Lib\\site-packages\\seaborn\\_base.py:949: FutureWarning: When grouping with a length-1 list-like, you will need to pass a length-1 tuple to get_group in a future version of pandas. Pass `(name,)` instead of `name` to silence this warning.\n",
      "  data_subset = grouped_data.get_group(pd_key)\n",
      "c:\\Users\\BUTALOP\\AppData\\Local\\Programs\\Python\\Python312\\Lib\\site-packages\\seaborn\\_base.py:949: FutureWarning: When grouping with a length-1 list-like, you will need to pass a length-1 tuple to get_group in a future version of pandas. Pass `(name,)` instead of `name` to silence this warning.\n",
      "  data_subset = grouped_data.get_group(pd_key)\n",
      "c:\\Users\\BUTALOP\\AppData\\Local\\Programs\\Python\\Python312\\Lib\\site-packages\\seaborn\\_base.py:949: FutureWarning: When grouping with a length-1 list-like, you will need to pass a length-1 tuple to get_group in a future version of pandas. Pass `(name,)` instead of `name` to silence this warning.\n",
      "  data_subset = grouped_data.get_group(pd_key)\n"
     ]
    },
    {
     "data": {
      "text/plain": [
       "<Axes: title={'center': 'Accuracy Comparison'}, xlabel='Accuracy', ylabel='Algorithm'>"
      ]
     },
     "execution_count": 32,
     "metadata": {},
     "output_type": "execute_result"
    },
    {
     "data": {
      "image/png": "[encoded data removed]",
      "text/plain": [
       "<Figure size 1000x500 with 1 Axes>"
      ]
     },
     "metadata": {},
     "output_type": "display_data"
    }
   ],
   "source": [
    "plt.figure(figsize=[10,5],dpi = 100)\n",
    "plt.title('Accuracy Comparison')\n",
    "plt.xlabel('Accuracy')\n",
    "plt.ylabel('Algorithm')\n",
    "sns.barplot(x = acc,y = model,palette='dark')"
   ]
  },
  {
   "cell_type": "code",
   "execution_count": 33,
   "id": "74fbc00a",
   "metadata": {},
   "outputs": [
    {
     "name": "stdout",
     "output_type": "stream",
     "text": [
      "Decision Tree --> 0.8522727272727273\n",
      "Naive Bayes --> 0.990909090909091\n",
      "SVM --> 0.9795454545454545\n",
      "RF --> 0.9886363636363636\n",
      "KNN --> 0.9659090909090909\n"
     ]
    }
   ],
   "source": [
    "accuracy_models = dict(zip(model, acc))\n",
    "for k, v in accuracy_models.items():\n",
    "    print (k, '-->', v)"
   ]
  },
  {
   "cell_type": "code",
   "execution_count": 34,
   "id": "fb74dd6a",
   "metadata": {},
   "outputs": [
    {
     "name": "stdout",
     "output_type": "stream",
     "text": [
      "['rice']\n"
     ]
    },
    {
     "name": "stderr",
     "output_type": "stream",
     "text": [
      "c:\\Users\\BUTALOP\\AppData\\Local\\Programs\\Python\\Python312\\Lib\\site-packages\\sklearn\\base.py:493: UserWarning: X does not have valid feature names, but RandomForestClassifier was fitted with feature names\n",
      "  warnings.warn(\n"
     ]
    }
   ],
   "source": [
    "#['N', 'P', 'K', 'temperature', 'humidity', 'ph', 'rainfall']\n",
    "data = np.array([[77,49,42,20,82,6.5,202]])\n",
    "prediction = RF.predict(data)\n",
    "print(prediction)"
   ]
  },
  {
   "cell_type": "code",
   "execution_count": null,
   "id": "0ecdbe63",
   "metadata": {},
   "outputs": [],
   "source": []
  }
 ],
 "metadata": {
  "kernelspec": {
   "display_name": "Python 3",
   "language": "python",
   "name": "python3"
  },
  "language_info": {
   "codemirror_mode": {
    "name": "ipython",
    "version": 3
   },
   "file_extension": ".py",
   "mimetype": "text/x-python",
   "name": "python",
   "nbconvert_exporter": "python",
   "pygments_lexer": "ipython3",
   "version": "3.12.1"
  }
 },
 "nbformat": 4,
 "nbformat_minor": 5
}
